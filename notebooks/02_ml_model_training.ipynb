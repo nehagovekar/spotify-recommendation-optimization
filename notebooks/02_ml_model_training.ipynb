{
 "cells": [
  {
   "cell_type": "code",
   "execution_count": null,
   "id": "cc5c3919",
   "metadata": {},
   "outputs": [],
   "source": []
  },
  {
   "cell_type": "markdown",
   "id": "67c49387",
   "metadata": {},
   "source": [
    "# # 🤖 Spotify Hit Prediction - ML Model Training\n",
    "# \n",
    "# **Goal**: Train multiple ML models to predict song success with 85%+ accuracy\n",
    "# \n",
    "# **Models to train**:\n",
    "# - Random Forest 🌲\n",
    "# - Logistic Regression 📈  \n",
    "# - XGBoost 🚀\n",
    "# \n",
    "# **Success metric**: Accuracy > 85%"
   ]
  },
  {
   "cell_type": "code",
   "execution_count": 3,
   "id": "c28a2c58",
   "metadata": {},
   "outputs": [],
   "source": [
    "# Import libraries\n",
    "import pandas as pd\n",
    "import numpy as np\n",
    "from sklearn.model_selection import train_test_split, cross_val_score\n",
    "from sklearn.ensemble import RandomForestClassifier\n",
    "from sklearn.linear_model import LogisticRegression\n",
    "from sklearn.metrics import accuracy_score, classification_report, confusion_matrix\n",
    "import matplotlib.pyplot as plt\n",
    "import seaborn as sns"
   ]
  },
  {
   "cell_type": "code",
   "execution_count": 4,
   "id": "b55a25ba",
   "metadata": {},
   "outputs": [
    {
     "name": "stdout",
     "output_type": "stream",
     "text": [
      " SPOTIFY HIT PREDICTION - ML TRAINING\n",
      "==================================================\n"
     ]
    }
   ],
   "source": [
    "print(\" SPOTIFY HIT PREDICTION - ML TRAINING\")\n",
    "print(\"=\" * 50)"
   ]
  },
  {
   "cell_type": "code",
   "execution_count": 5,
   "id": "a2a91a48",
   "metadata": {},
   "outputs": [],
   "source": [
    "# %%\n",
    "# Load your engineered features\n",
    "df = pd.read_csv('../data/processed/spotify_features_engineered.csv')"
   ]
  },
  {
   "cell_type": "code",
   "execution_count": null,
   "id": "d79f3c5d",
   "metadata": {},
   "outputs": [],
   "source": []
  },
  {
   "cell_type": "code",
   "execution_count": 6,
   "id": "2cffa6db",
   "metadata": {},
   "outputs": [
    {
     "name": "stdout",
     "output_type": "stream",
     "text": [
      "📊 DATA LOADED:\n",
      "   Songs: 2,017\n",
      "   Features: 31\n",
      "   Target column: target\n"
     ]
    }
   ],
   "source": [
    "print(f\"📊 DATA LOADED:\")\n",
    "print(f\"   Songs: {len(df):,}\")\n",
    "print(f\"   Features: {df.shape[1]}\")\n",
    "print(f\"   Target column: target\")"
   ]
  },
  {
   "cell_type": "code",
   "execution_count": 7,
   "id": "0c35e2e9",
   "metadata": {},
   "outputs": [
    {
     "name": "stdout",
     "output_type": "stream",
     "text": [
      "   Hit rate: 50.6%\n"
     ]
    }
   ],
   "source": [
    "# Check target distribution\n",
    "hit_rate = df['target'].mean()\n",
    "print(f\"   Hit rate: {hit_rate:.1%}\")"
   ]
  },
  {
   "cell_type": "code",
   "execution_count": 9,
   "id": "b0a00050",
   "metadata": {},
   "outputs": [],
   "source": [
    "# %%\n",
    "# Select the best features for ML (based on your FE results)\n",
    "best_features = [\n",
    "    'energy_loudness',      # Top correlation: 0.358\n",
    "    'happiness_score',      # Composite score\n",
    "    'dance_tempo',          # Interaction feature\n",
    "    'danceability',         # Original audio feature\n",
    "    'energy_dance',         # Interaction feature\n",
    "    'happy_dance',          # Interaction feature\n",
    "    'dancefloor_potential', # Composite score\n",
    "    'energy',               # Original audio feature\n",
    "    'valence',              # Original audio feature\n",
    "    'speechiness'           # Good predictor\n",
    "]\n",
    "\n",
    "\n"
   ]
  },
  {
   "cell_type": "markdown",
   "id": "ef26cdf4",
   "metadata": {},
   "source": []
  },
  {
   "cell_type": "code",
   "execution_count": 10,
   "id": "0bb24097",
   "metadata": {},
   "outputs": [
    {
     "name": "stdout",
     "output_type": "stream",
     "text": [
      "🎯 SELECTED FEATURES:\n",
      "    1. energy_loudness\n",
      "    2. happiness_score\n",
      "    3. dance_tempo\n",
      "    4. danceability\n",
      "    5. energy_dance\n",
      "    6. happy_dance\n",
      "    7. dancefloor_potential\n",
      "    8. energy\n",
      "    9. valence\n",
      "   10. speechiness\n",
      "\n",
      "📊 ML DATA READY:\n",
      "   X shape: (2017, 10)\n",
      "   y shape: (2017,)\n"
     ]
    }
   ],
   "source": [
    "print(f\"🎯 SELECTED FEATURES:\")\n",
    "for i, feature in enumerate(best_features, 1):\n",
    "    print(f\"   {i:2d}. {feature}\")\n",
    "\n",
    "# Prepare data\n",
    "X = df[best_features].copy()\n",
    "y = df['target'].copy()\n",
    "\n",
    "print(f\"\\n📊 ML DATA READY:\")\n",
    "print(f\"   X shape: {X.shape}\")\n",
    "print(f\"   y shape: {y.shape}\")"
   ]
  },
  {
   "cell_type": "code",
   "execution_count": 11,
   "id": "f3c27adb",
   "metadata": {},
   "outputs": [
    {
     "name": "stdout",
     "output_type": "stream",
     "text": [
      "📊 DATA SPLIT:\n",
      "   Training: 1,613 songs\n",
      "   Testing: 404 songs\n",
      "   Train hit rate: 50.6%\n",
      "   Test hit rate: 50.5%\n"
     ]
    }
   ],
   "source": [
    "# Split data into train/test\n",
    "X_train, X_test, y_train, y_test = train_test_split(\n",
    "    X, y, test_size=0.2, random_state=42, stratify=y\n",
    ")\n",
    "\n",
    "print(f\"📊 DATA SPLIT:\")\n",
    "print(f\"   Training: {X_train.shape[0]:,} songs\")\n",
    "print(f\"   Testing: {X_test.shape[0]:,} songs\")\n",
    "print(f\"   Train hit rate: {y_train.mean():.1%}\")\n",
    "print(f\"   Test hit rate: {y_test.mean():.1%}\")"
   ]
  },
  {
   "cell_type": "code",
   "execution_count": 12,
   "id": "15472290",
   "metadata": {},
   "outputs": [
    {
     "name": "stdout",
     "output_type": "stream",
     "text": [
      "\n",
      "🌲 TRAINING RANDOM FOREST...\n",
      " Random Forest Accuracy: 71.0%\n"
     ]
    }
   ],
   "source": [
    "# MODEL 1: Random Forest 🌲\n",
    "print(f\"\\n🌲 TRAINING RANDOM FOREST...\")\n",
    "\n",
    "rf_model = RandomForestClassifier(\n",
    "    n_estimators=100,\n",
    "    max_depth=10,\n",
    "    random_state=42,\n",
    "    n_jobs=-1\n",
    ")\n",
    "\n",
    "rf_model.fit(X_train, y_train)\n",
    "rf_pred = rf_model.predict(X_test)\n",
    "rf_accuracy = accuracy_score(y_test, rf_pred)\n",
    "\n",
    "print(f\" Random Forest Accuracy: {rf_accuracy:.1%}\")"
   ]
  },
  {
   "cell_type": "code",
   "execution_count": 13,
   "id": "74e8459c",
   "metadata": {},
   "outputs": [
    {
     "name": "stdout",
     "output_type": "stream",
     "text": [
      "\n",
      "📊 FEATURE IMPORTANCE (Random Forest):\n",
      "   energy_loudness     : 0.243\n",
      "   danceability        : 0.109\n",
      "   dance_tempo         : 0.096\n",
      "   speechiness         : 0.095\n",
      "   energy              : 0.091\n"
     ]
    }
   ],
   "source": [
    "# Feature importance\n",
    "feature_importance = pd.DataFrame({\n",
    "    'feature': best_features,\n",
    "    'importance': rf_model.feature_importances_\n",
    "}).sort_values('importance', ascending=False)\n",
    "\n",
    "print(f\"\\n📊 FEATURE IMPORTANCE (Random Forest):\")\n",
    "for _, row in feature_importance.head(5).iterrows():\n",
    "    print(f\"   {row['feature']:20s}: {row['importance']:.3f}\")\n"
   ]
  },
  {
   "cell_type": "code",
   "execution_count": null,
   "id": "80de0425",
   "metadata": {},
   "outputs": [],
   "source": []
  },
  {
   "cell_type": "code",
   "execution_count": 14,
   "id": "da42ba67",
   "metadata": {},
   "outputs": [
    {
     "name": "stdout",
     "output_type": "stream",
     "text": [
      "\n",
      " TRAINING LOGISTIC REGRESSION...\n",
      " Logistic Regression Accuracy: 67.1%\n"
     ]
    }
   ],
   "source": [
    "# MODEL 2: Logistic Regression 📈\n",
    "print(f\"\\n TRAINING LOGISTIC REGRESSION...\")\n",
    "\n",
    "# Scale features for logistic regression\n",
    "from sklearn.preprocessing import StandardScaler\n",
    "\n",
    "scaler = StandardScaler()\n",
    "X_train_scaled = scaler.fit_transform(X_train)\n",
    "X_test_scaled = scaler.transform(X_test)\n",
    "\n",
    "lr_model = LogisticRegression(random_state=42, max_iter=1000)\n",
    "lr_model.fit(X_train_scaled, y_train)\n",
    "lr_pred = lr_model.predict(X_test_scaled)\n",
    "lr_accuracy = accuracy_score(y_test, lr_pred)\n",
    "\n",
    "print(f\" Logistic Regression Accuracy: {lr_accuracy:.1%}\")\n",
    "\n"
   ]
  },
  {
   "cell_type": "code",
   "execution_count": 15,
   "id": "fabc8e52",
   "metadata": {},
   "outputs": [
    {
     "name": "stdout",
     "output_type": "stream",
     "text": [
      "\n",
      " TRAINING GRADIENT BOOSTING...\n",
      "XGBoost Accuracy: 70.3%\n"
     ]
    }
   ],
   "source": [
    "# MODEL 3: XGBoost  (if available, otherwise Extra Trees)\n",
    "print(f\"\\n TRAINING GRADIENT BOOSTING...\")\n",
    "\n",
    "try:\n",
    "    from xgboost import XGBClassifier\n",
    "    xgb_model = XGBClassifier(\n",
    "        n_estimators=100,\n",
    "        max_depth=6,\n",
    "        learning_rate=0.1,\n",
    "        random_state=42,\n",
    "        eval_metric='logloss'\n",
    "    )\n",
    "    model_name = \"XGBoost\"\n",
    "except ImportError:\n",
    "    from sklearn.ensemble import ExtraTreesClassifier\n",
    "    xgb_model = ExtraTreesClassifier(\n",
    "        n_estimators=100,\n",
    "        max_depth=10,\n",
    "        random_state=42,\n",
    "        n_jobs=-1\n",
    "    )\n",
    "    model_name = \"Extra Trees\"\n",
    "\n",
    "xgb_model.fit(X_train, y_train)\n",
    "xgb_pred = xgb_model.predict(X_test)\n",
    "xgb_accuracy = accuracy_score(y_test, xgb_pred)\n",
    "\n",
    "print(f\"{model_name} Accuracy: {xgb_accuracy:.1%}\")\n"
   ]
  },
  {
   "cell_type": "code",
   "execution_count": 16,
   "id": "5036f10b",
   "metadata": {},
   "outputs": [
    {
     "name": "stdout",
     "output_type": "stream",
     "text": [
      "\n",
      "🏆 MODEL COMPARISON:\n",
      "========================================\n",
      "   🥇 Random Forest       : 71.0%\n",
      "   ✅ XGBoost             : 70.3%\n",
      "   ✅ Logistic Regression : 67.1%\n"
     ]
    }
   ],
   "source": [
    "# MODEL COMPARISON 🏆\n",
    "print(f\"\\n🏆 MODEL COMPARISON:\")\n",
    "print(\"=\" * 40)\n",
    "\n",
    "models_results = {\n",
    "    'Random Forest': rf_accuracy,\n",
    "    'Logistic Regression': lr_accuracy,\n",
    "    model_name: xgb_accuracy\n",
    "}\n",
    "\n",
    "for model, accuracy in sorted(models_results.items(), key=lambda x: x[1], reverse=True):\n",
    "    status = \"🥇\" if accuracy == max(models_results.values()) else \"✅\"\n",
    "    print(f\"   {status} {model:20s}: {accuracy:.1%}\")\n"
   ]
  },
  {
   "cell_type": "code",
   "execution_count": 17,
   "id": "49fa9b29",
   "metadata": {},
   "outputs": [
    {
     "name": "stdout",
     "output_type": "stream",
     "text": [
      "\n",
      "🎯 BEST MODEL: Random Forest (71.0%)\n"
     ]
    }
   ],
   "source": [
    "# Find best model\n",
    "best_model_name = max(models_results, key=models_results.get)\n",
    "best_accuracy = models_results[best_model_name]\n",
    "\n",
    "print(f\"\\n🎯 BEST MODEL: {best_model_name} ({best_accuracy:.1%})\")\n",
    "\n"
   ]
  },
  {
   "cell_type": "code",
   "execution_count": 18,
   "id": "f9dea30f",
   "metadata": {},
   "outputs": [
    {
     "name": "stdout",
     "output_type": "stream",
     "text": [
      "\n",
      "📊 DETAILED EVALUATION - Random Forest\n",
      "==================================================\n"
     ]
    }
   ],
   "source": [
    "# %%\n",
    "# DETAILED EVALUATION OF BEST MODEL\n",
    "print(f\"\\n📊 DETAILED EVALUATION - {best_model_name}\")\n",
    "print(\"=\" * 50)\n",
    "\n",
    "# Select best model\n",
    "if best_model_name == 'Random Forest':\n",
    "    best_model = rf_model\n",
    "    best_pred = rf_pred\n",
    "elif best_model_name == 'Logistic Regression':\n",
    "    best_model = lr_model\n",
    "    best_pred = lr_pred\n",
    "else:\n",
    "    best_model = xgb_model\n",
    "    best_pred = xgb_pred"
   ]
  },
  {
   "cell_type": "code",
   "execution_count": 19,
   "id": "d367489f",
   "metadata": {},
   "outputs": [
    {
     "name": "stdout",
     "output_type": "stream",
     "text": [
      "📋 CLASSIFICATION REPORT:\n",
      "              precision    recall  f1-score   support\n",
      "\n",
      "           0       0.71      0.70      0.71       200\n",
      "           1       0.71      0.72      0.72       204\n",
      "\n",
      "    accuracy                           0.71       404\n",
      "   macro avg       0.71      0.71      0.71       404\n",
      "weighted avg       0.71      0.71      0.71       404\n",
      "\n"
     ]
    },
    {
     "data": {
      "image/png": "[encoded data removed]",
      "text/plain": [
       "<Figure size 800x600 with 2 Axes>"
      ]
     },
     "metadata": {},
     "output_type": "display_data"
    }
   ],
   "source": [
    "# Classification report\n",
    "print(f\"📋 CLASSIFICATION REPORT:\")\n",
    "print(classification_report(y_test, best_pred))\n",
    "\n",
    "# Confusion Matrix\n",
    "cm = confusion_matrix(y_test, best_pred)\n",
    "plt.figure(figsize=(8, 6))\n",
    "sns.heatmap(cm, annot=True, fmt='d', cmap='Blues', \n",
    "            xticklabels=['Non-Hit', 'Hit'], \n",
    "            yticklabels=['Non-Hit', 'Hit'])\n",
    "plt.title(f'Confusion Matrix - {best_model_name}', fontweight='bold')\n",
    "plt.ylabel('Actual')\n",
    "plt.xlabel('Predicted')\n",
    "plt.show()\n",
    "\n",
    "#"
   ]
  },
  {
   "cell_type": "code",
   "execution_count": 21,
   "id": "82b4e31a",
   "metadata": {},
   "outputs": [
    {
     "name": "stdout",
     "output_type": "stream",
     "text": [
      "\n",
      "📊 KEY METRICS:\n",
      "   Accuracy:  71.0%\n",
      "   Precision: 71.0%\n",
      "   Recall:    72.1%\n",
      "   F1-Score:  71.5%\n",
      "\n",
      "📊 FEATURE IMPORTANCE VISUALIZATION\n"
     ]
    },
    {
     "data": {
      "image/png": "[encoded data removed]",
      "text/plain": [
       "<Figure size 1000x600 with 1 Axes>"
      ]
     },
     "metadata": {},
     "output_type": "display_data"
    },
    {
     "name": "stdout",
     "output_type": "stream",
     "text": [
      "🔍 TOP 5 MOST IMPORTANT FEATURES:\n",
      "   1. energy_loudness     : 0.243\n",
      "   2. danceability        : 0.109\n",
      "   3. dance_tempo         : 0.096\n",
      "   4. speechiness         : 0.095\n",
      "   5. energy              : 0.091\n",
      "\n",
      "🔄 CROSS-VALIDATION (5-fold)\n",
      "📊 CV RESULTS:\n",
      "   Mean accuracy: 70.6%\n",
      "   Std deviation: 0.013\n",
      "   Individual folds: ['71.8%', '72.4%', '70.0%', '69.3%', '69.3%']\n",
      "\n",
      "💾 MODEL SAVED:\n",
      "   Location: ../models/best_spotify_model_random_forest.pkl\n",
      "   Model: Random Forest\n",
      "   Accuracy: 71.0%\n",
      "   Features: ../models/model_features.txt\n",
      "\n",
      "🧪 QUICK PREDICTION TEST\n",
      "📊 SAMPLE PREDICTIONS:\n",
      "   Song 1: Predicted=1 (Prob: 65.8%), Actual=0 ❌\n",
      "   Song 2: Predicted=0 (Prob: 28.8%), Actual=0 ✅\n",
      "   Song 3: Predicted=1 (Prob: 75.3%), Actual=1 ✅\n",
      "\n",
      "============================================================\n",
      "🎉 ML MODEL TRAINING COMPLETE!\n",
      "============================================================\n",
      "📊 RESULTS SUMMARY:\n",
      "   🥇 Best Model: Random Forest\n",
      "   🎯 Accuracy: 71.0%\n",
      "   📈 CV Score: 70.6% ± 0.013\n",
      "   🎵 Songs trained on: 1,613\n",
      "   ⚠️  Below 85% target - room for improvement\n",
      "\n",
      "🚀 NEXT STEPS:\n",
      "   1. ✅ Model training complete\n",
      "   2. 🔧 Hyperparameter tuning (Day 2)\n",
      "   3. 📊 A/B testing framework (Day 3)\n",
      "   4. 💰 Business impact analysis (Day 4)\n",
      "   5. 🚀 Deployment & portfolio (Day 5)\n",
      "\n",
      "💡 BUSINESS INSIGHTS:\n",
      "   • Can predict hit songs with 71%% accuracy\n",
      "   • Top predictor: energy_loudness\n",
      "   • Ready for A/B testing implementation\n",
      "   • Potential revenue impact through better recommendations\n"
     ]
    }
   ],
   "source": [
    "tn, fp, fn, tp = cm.ravel()\n",
    "precision = tp / (tp + fp)\n",
    "recall = tp / (tp + fn)\n",
    "f1 = 2 * (precision * recall) / (precision + recall)\n",
    "\n",
    "print(f\"\\n📊 KEY METRICS:\")\n",
    "print(f\"   Accuracy:  {best_accuracy:.1%}\")\n",
    "print(f\"   Precision: {precision:.1%}\")\n",
    "print(f\"   Recall:    {recall:.1%}\")\n",
    "print(f\"   F1-Score:  {f1:.1%}\")\n",
    "\n",
    "# %%\n",
    "# FEATURE IMPORTANCE VISUALIZATION\n",
    "print(f\"\\n📊 FEATURE IMPORTANCE VISUALIZATION\")\n",
    "\n",
    "if best_model_name in ['Random Forest', model_name]:\n",
    "    # Tree-based models have feature_importances_\n",
    "    importances = best_model.feature_importances_\n",
    "    \n",
    "    plt.figure(figsize=(10, 6))\n",
    "    indices = np.argsort(importances)[::-1]\n",
    "    \n",
    "    plt.bar(range(len(importances)), importances[indices])\n",
    "    plt.title(f'Feature Importance - {best_model_name}', fontweight='bold')\n",
    "    plt.xticks(range(len(importances)), [best_features[i] for i in indices], rotation=45)\n",
    "    plt.tight_layout()\n",
    "    plt.show()\n",
    "    \n",
    "    print(f\"🔍 TOP 5 MOST IMPORTANT FEATURES:\")\n",
    "    for i in range(5):\n",
    "        idx = indices[i]\n",
    "        print(f\"   {i+1}. {best_features[idx]:20s}: {importances[idx]:.3f}\")\n",
    "\n",
    "# %%\n",
    "# CROSS-VALIDATION FOR ROBUST EVALUATION\n",
    "print(f\"\\n🔄 CROSS-VALIDATION (5-fold)\")\n",
    "\n",
    "cv_scores = cross_val_score(best_model, X_train, y_train, cv=5, scoring='accuracy')\n",
    "\n",
    "print(f\"📊 CV RESULTS:\")\n",
    "print(f\"   Mean accuracy: {cv_scores.mean():.1%}\")\n",
    "print(f\"   Std deviation: {cv_scores.std():.3f}\")\n",
    "print(f\"   Individual folds: {[f'{score:.1%}' for score in cv_scores]}\")\n",
    "\n",
    "# %%\n",
    "# SAVE THE BEST MODEL\n",
    "import joblib\n",
    "from pathlib import Path\n",
    "\n",
    "# Create models directory\n",
    "models_dir = Path('../models')\n",
    "models_dir.mkdir(exist_ok=True)\n",
    "\n",
    "# Save model\n",
    "model_path = models_dir / f'best_spotify_model_{best_model_name.lower().replace(\" \", \"_\")}.pkl'\n",
    "joblib.dump(best_model, model_path)\n",
    "\n",
    "print(f\"\\n💾 MODEL SAVED:\")\n",
    "print(f\"   Location: {model_path}\")\n",
    "print(f\"   Model: {best_model_name}\")\n",
    "print(f\"   Accuracy: {best_accuracy:.1%}\")\n",
    "\n",
    "# Save feature list\n",
    "features_path = models_dir / 'model_features.txt'\n",
    "with open(features_path, 'w') as f:\n",
    "    for feature in best_features:\n",
    "        f.write(f\"{feature}\\n\")\n",
    "\n",
    "print(f\"   Features: {features_path}\")\n",
    "\n",
    "# %%\n",
    "# QUICK PREDICTION TEST\n",
    "print(f\"\\n🧪 QUICK PREDICTION TEST\")\n",
    "\n",
    "# Test on a few songs\n",
    "test_sample = X_test.head(3)\n",
    "predictions = best_model.predict(test_sample)\n",
    "probabilities = best_model.predict_proba(test_sample)[:, 1]\n",
    "\n",
    "print(f\"📊 SAMPLE PREDICTIONS:\")\n",
    "for i, (idx, pred, prob) in enumerate(zip(test_sample.index, predictions, probabilities)):\n",
    "    actual = y_test.loc[idx]\n",
    "    status = \"✅\" if pred == actual else \"❌\"\n",
    "    print(f\"   Song {i+1}: Predicted={pred} (Prob: {prob:.1%}), Actual={actual} {status}\")\n",
    "\n",
    "# %%\n",
    "# SUMMARY & NEXT STEPS\n",
    "print(f\"\\n\" + \"=\"*60)\n",
    "print(f\"🎉 ML MODEL TRAINING COMPLETE!\")\n",
    "print(\"=\"*60)\n",
    "\n",
    "print(f\"📊 RESULTS SUMMARY:\")\n",
    "print(f\"   🥇 Best Model: {best_model_name}\")\n",
    "print(f\"   🎯 Accuracy: {best_accuracy:.1%}\")\n",
    "print(f\"   📈 CV Score: {cv_scores.mean():.1%} ± {cv_scores.std():.3f}\")\n",
    "print(f\"   🎵 Songs trained on: {len(X_train):,}\")\n",
    "\n",
    "success_threshold = 0.85\n",
    "if best_accuracy >= success_threshold:\n",
    "    print(f\"   🎉 SUCCESS! Exceeded {success_threshold:.0%} target!\")\n",
    "else:\n",
    "    print(f\"   ⚠️  Below {success_threshold:.0%} target - room for improvement\")\n",
    "\n",
    "print(f\"\\n🚀 NEXT STEPS:\")\n",
    "print(f\"   1. ✅ Model training complete\")\n",
    "print(f\"   2. 🔧 Hyperparameter tuning (Day 2)\")\n",
    "print(f\"   3. 📊 A/B testing framework (Day 3)\")\n",
    "print(f\"   4. 💰 Business impact analysis (Day 4)\")\n",
    "print(f\"   5. 🚀 Deployment & portfolio (Day 5)\")\n",
    "\n",
    "print(f\"\\n💡 BUSINESS INSIGHTS:\")\n",
    "print(f\"   • Can predict hit songs with {best_accuracy:.0%}% accuracy\")\n",
    "print(f\"   • Top predictor: {best_features[0]}\")\n",
    "print(f\"   • Ready for A/B testing implementation\")\n",
    "print(f\"   • Potential revenue impact through better recommendations\")"
   ]
  },
  {
   "cell_type": "code",
   "execution_count": null,
   "id": "09a53d1b",
   "metadata": {},
   "outputs": [],
   "source": []
  }
 ],
 "metadata": {
  "kernelspec": {
   "display_name": "eda",
   "language": "python",
   "name": "python3"
  },
  "language_info": {
   "codemirror_mode": {
    "name": "ipython",
    "version": 3
   },
   "file_extension": ".py",
   "mimetype": "text/x-python",
   "name": "python",
   "nbconvert_exporter": "python",
   "pygments_lexer": "ipython3",
   "version": "3.8.18"
  }
 },
 "nbformat": 4,
 "nbformat_minor": 5
}
