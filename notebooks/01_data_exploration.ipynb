{
 "cells": [
  {
   "cell_type": "code",
   "execution_count": null,
   "id": "1dcd1584",
   "metadata": {},
   "outputs": [
    {
     "name": "stdout",
     "output_type": "stream",
     "text": [
      "🎵 SPOTIFY HIT PREDICTION - DATA EXPLORATION\n",
      "==================================================\n",
      "✅ Loaded raw data: 2,017 songs\n",
      "\n",
      "📊 DATASET OVERVIEW:\n",
      "Shape: (2017, 17)\n",
      "Columns: ['Unnamed: 0', 'acousticness', 'danceability', 'duration_ms', 'energy', 'instrumentalness', 'key', 'liveness', 'loudness', 'mode', 'speechiness', 'tempo', 'time_signature', 'valence', 'target', 'song_title', 'artist']\n",
      "\n",
      "🎯 TARGET DISTRIBUTION:\n",
      "Hit songs: 1,020 (50.6%)\n",
      "Non-hit songs: 997 (49.4%)\n",
      "\n",
      "🚀 Ready to explore! Let's find what makes songs successful...\n"
     ]
    }
   ],
   "source": [
    "# Import libraries\n",
    "import pandas as pd\n",
    "import numpy as np\n",
    "import matplotlib.pyplot as plt\n",
    "import seaborn as sns\n",
    "from pathlib import Path\n",
    "import warnings\n",
    "warnings.filterwarnings('ignore')\n",
    "\n",
    "# Set up plotting\n",
    "plt.style.use('default')\n",
    "sns.set_palette(\"husl\")\n",
    "%matplotlib inline\n",
    "\n",
    "print(\"🎵 SPOTIFY HIT PREDICTION - DATA EXPLORATION\")\n",
    "print(\"=\" * 50)\n",
    "\n",
    "# Load the clean data\n",
    "data_path = Path(\"../data/processed/spotify_clean.csv\")\n",
    "if data_path.exists():\n",
    "    df = pd.read_csv(data_path)\n",
    "    print(f\"✅ Loaded clean data: {len(df):,} songs\")\n",
    "else:\n",
    "    # Fallback to raw data\n",
    "    raw_path = Path(\"../data/raw/Spotify_Data.csv\")\n",
    "    df = pd.read_csv(raw_path)\n",
    "    print(f\"✅ Loaded raw data: {len(df):,} songs\")\n",
    "\n",
    "# Quick overview\n",
    "print(f\"\\n📊 DATASET OVERVIEW:\")\n",
    "print(f\"Shape: {df.shape}\")\n",
    "print(f\"Columns: {list(df.columns)}\")\n",
    "\n",
    "# Check target distribution\n",
    "if 'target' in df.columns:\n",
    "    hit_rate = df['target'].mean()\n",
    "    print(f\"\\n🎯 TARGET DISTRIBUTION:\")\n",
    "    print(f\"Hit songs: {df['target'].sum():,} ({hit_rate:.1%})\")\n",
    "    print(f\"Non-hit songs: {len(df) - df['target'].sum():,} ({1-hit_rate:.1%})\")\n",
    "\n",
    "print(\"\\n🚀 Ready to explore! Let's find what makes songs successful...\")"
   ]
  },
  {
   "cell_type": "code",
   "execution_count": null,
   "id": "15bb3aa0",
   "metadata": {},
   "outputs": [],
   "source": [
    "# Spotify Data Exploration\n",
    "# Goal: Understand what makes songs successful"
   ]
  },
  {
   "cell_type": "markdown",
   "id": "98c729a5",
   "metadata": {},
   "source": []
  }
 ],
 "metadata": {
  "kernelspec": {
   "display_name": "eda",
   "language": "python",
   "name": "python3"
  },
  "language_info": {
   "codemirror_mode": {
    "name": "ipython",
    "version": 3
   },
   "file_extension": ".py",
   "mimetype": "text/x-python",
   "name": "python",
   "nbconvert_exporter": "python",
   "pygments_lexer": "ipython3",
   "version": "3.8.18"
  }
 },
 "nbformat": 4,
 "nbformat_minor": 5
}
